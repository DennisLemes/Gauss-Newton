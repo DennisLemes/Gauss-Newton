{
 "cells": [
  {
   "cell_type": "code",
   "execution_count": 1,
   "metadata": {},
   "outputs": [],
   "source": [
    "using ForwardDiff"
   ]
  },
  {
   "cell_type": "code",
   "execution_count": 10,
   "metadata": {},
   "outputs": [
    {
     "data": {
      "text/plain": [
       "1"
      ]
     },
     "execution_count": 10,
     "metadata": {},
     "output_type": "execute_result"
    }
   ],
   "source": [
    "x = [0.25,0.75,1.25,1.75,2.25]\n",
    "y = [0.28,0.57,0.68,0.74,0.79]\n",
    "f(a) = [a[1]*(1-exp(-a[2]*nmbr))]\n",
    "fmod(a) = a[2]*(1-exp(-a[3]*a[1]))\n",
    "ini = [1.0,1.0] #chute inicial\n",
    "a0 = 1\n",
    "a1 = 1\n"
   ]
  },
  {
   "cell_type": "code",
   "execution_count": 23,
   "metadata": {},
   "outputs": [],
   "source": [
    "ychute = Float64[] # ychute é f calculada com o chute inicial para cada x nos dados\n",
    "for i=1:length(x)\n",
    "    che = []\n",
    "    che = [x[i],ini[1],ini[2]]\n",
    "    push!(ychute,fmod(che))\n",
    "end\n",
    "\n",
    "\n",
    "d = Float64[] #matriz resíduo\n",
    "for i=1:length(x)\n",
    "    push!(d,y[i] - ychute[i])\n",
    "end\n"
   ]
  },
  {
   "cell_type": "code",
   "execution_count": 24,
   "metadata": {},
   "outputs": [
    {
     "data": {
      "text/plain": [
       "2-element Array{Float64,1}:\n",
       " 0.7918669022617211\n",
       " 1.6751459046438626"
      ]
     },
     "execution_count": 24,
     "metadata": {},
     "output_type": "execute_result"
    }
   ],
   "source": [
    "mat = []\n",
    "nmbr = 0.0\n",
    "proxini = []\n",
    "for i=1:length(x)\n",
    "    aux = []\n",
    "    nmbr = x[i]\n",
    "    aux = ini\n",
    "    jacLinha = ForwardDiff.jacobian(f,aux)\n",
    "    if i == 1\n",
    "        mat = jacLinha\n",
    "    else\n",
    "        mat = vcat(mat,jacLinha)\n",
    "    end\n",
    "end\n",
    "\n",
    "incremento = inv(transpose(mat)*mat) * transpose(mat)* d \n",
    "a2 = a0 + incremento[1] #chutes iniciais são incrementados\n",
    "a3 = a1 + incremento[2]\n",
    "#erro\n",
    "for i=1:length(ini)\n",
    "    push!(proxini,(ini[i] + incremento[i]))\n",
    "end\n",
    "erro = []\n",
    "for i=1:length(ini)\n",
    "    push!(erro,abs((proxini[i] - ini[i])/proxini[i]))\n",
    "end\n",
    "a0 = a2\n",
    "a1 = a3\n",
    "ini = [a0,a1]"
   ]
  },
  {
   "cell_type": "code",
   "execution_count": 25,
   "metadata": {},
   "outputs": [
    {
     "data": {
      "text/plain": [
       "2-element Array{Any,1}:\n",
       " 1.910602652908354e-5\n",
       " 7.315137715660119e-5"
      ]
     },
     "execution_count": 25,
     "metadata": {},
     "output_type": "execute_result"
    }
   ],
   "source": [
    "erro"
   ]
  },
  {
   "cell_type": "code",
   "execution_count": 26,
   "metadata": {},
   "outputs": [
    {
     "data": {
      "text/plain": [
       "8.511428534823394e-9"
      ]
     },
     "execution_count": 26,
     "metadata": {},
     "output_type": "execute_result"
    }
   ],
   "source": [
    "(erro[1]+erro[2])*(erro[1]+erro[2])"
   ]
  },
  {
   "cell_type": "code",
   "execution_count": null,
   "metadata": {},
   "outputs": [],
   "source": []
  }
 ],
 "metadata": {
  "kernelspec": {
   "display_name": "Julia 1.1.0",
   "language": "julia",
   "name": "julia-1.1"
  },
  "language_info": {
   "file_extension": ".jl",
   "mimetype": "application/julia",
   "name": "julia",
   "version": "1.1.0"
  }
 },
 "nbformat": 4,
 "nbformat_minor": 2
}
